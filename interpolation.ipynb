{
 "cells": [
  {
   "cell_type": "markdown",
   "metadata": {},
   "source": [
    "## NEAREST NEIGHBOUR INTERPOLATION"
   ]
  },
  {
   "cell_type": "code",
   "execution_count": 11,
   "metadata": {},
   "outputs": [],
   "source": [
    "import sys\n",
    "import cv2\n",
    "import numpy\n",
    "\n",
    "def bound(x, y, width, height):\n",
    "\tif x < 0:\n",
    "\t\tx = 0\n",
    "\tif y < 0:\n",
    "\t\ty = 0\n",
    "\tif x >= width:\n",
    "\t\tx = width - 1\n",
    "\tif y >= height:\n",
    "\t\ty = height - 1\n",
    "\treturn x, y\n",
    "\n",
    "def interpolate_nn(org_img, new_height, new_width):\n",
    "\theight, width, channels = org_img.shape\n",
    "\n",
    "\theight_ratio = height/new_height\n",
    "\twidth_ratio = width/new_width\n",
    "\tscaled_img = numpy.zeros((new_height, new_width, channels), org_img.dtype)\n",
    "\n",
    "\tfor y_new in range(new_height):\n",
    "\t\tfor x_new in range(new_width):\n",
    "\t\t\ty_old = round(y_new * height_ratio)\n",
    "\t\t\tx_old = round(x_new * width_ratio)\n",
    "\t\t\t#x_old, y_old = bound(x_old, y_old, width, height)\n",
    "\n",
    "\t\t\tscaled_img[y_new, x_new] = org_img[y_old, x_old]\n",
    "\n",
    "\treturn scaled_img\n",
    "\n",
    "def main():\n",
    "\timg_path = \"img/lion.jpg\"\n",
    "\timg = cv2.imread(img_path)\n",
    "\n",
    "\tnew_image = interpolate_nn(img, 150, 200)\n",
    "\n",
    "\tcv2.imwrite(\"output_NN.jpg\", new_image)\n",
    "\n",
    "if __name__ == '__main__':\n",
    "\tmain()"
   ]
  },
  {
   "cell_type": "markdown",
   "metadata": {},
   "source": [
    "## BILINEAR INTERPOLATION"
   ]
  },
  {
   "cell_type": "code",
   "execution_count": 4,
   "metadata": {},
   "outputs": [],
   "source": [
    "import cv2\n",
    "import numpy as np\n",
    "import math\n",
    "\n",
    "def bound(x, y, height, width):\n",
    "\tif x < 0:\n",
    "\t\tx = 0\n",
    "\tif y < 0:\n",
    "\t\ty = 0\n",
    "\tif x >= width:\n",
    "\t\tx = width - 1\n",
    "\tif y >= height:\n",
    "\t\ty = height - 1\n",
    "\treturn x, y\n",
    "\n",
    "def interpolate_bilinear(src, new_height, new_width):\n",
    "    old_height, old_width, channels = src.shape\n",
    "    \n",
    "    h_ratio = old_height/new_height \n",
    "    w_ratio = old_width/new_width\n",
    "    \n",
    "    scaled = np.zeros((new_height,new_width,channels),src.dtype)\n",
    "        \n",
    "    for y_new in range(new_height):\n",
    "        for x_new in range(new_width):\n",
    "            x_old = x_new * w_ratio\n",
    "            y_old = y_new * h_ratio\n",
    "            \n",
    "            neigh1_x = math.floor(x_old)\n",
    "            neigh1_y = math.floor(y_old)\n",
    "            \n",
    "            neigh1_x,neigh1_y = bound(neigh1_x , neigh1_y, old_height,old_width)\n",
    "            neigh2_x,neigh2_y = bound(neigh1_x + 1,neigh1_y,old_height,old_width)\n",
    "            neigh3_x,neigh3_y = bound(neigh1_x ,neigh1_y + 1,old_height,old_width)\n",
    "            neigh4_x,neigh4_y = bound(neigh1_x + 1,neigh1_y + 1,old_height,old_width)\n",
    "            \n",
    "            neigh1_x,neigh1_y = bound(neigh1_x , neigh1_y, old_height,old_width)\n",
    "            \n",
    "            delta_x = x_old - neigh1_x\n",
    "            delta_y = y_old - neigh1_y\n",
    "            \n",
    "            scaled[y_new, x_new] = \\\n",
    "            (delta_x)*(delta_y)*src[neigh1_y,neigh1_x] \\\n",
    "            + (1 - delta_x)*(delta_y)*src[neigh2_y,neigh2_x] \\\n",
    "            + (delta_x)*(1 - delta_y)*src[neigh3_y,neigh3_x] \\\n",
    "            + (1 - delta_x)*(1 - delta_y)*src[neigh4_y,neigh4_x]\n",
    "            \n",
    "            for c in range(channels):\n",
    "                scaled[y_new, x_new, c] = round(scaled[y_new, x_new, c])\n",
    "            \n",
    "    return scaled\n",
    "\n",
    "def main():\n",
    "\timg_path = \"img/lion.jpg\"\n",
    "\timg = cv2.imread(img_path)\n",
    "\n",
    "\tnew_image = interpolate_bilinear(img,150,200)\n",
    "\n",
    "\tcv2.imwrite(\"output_bilinear.jpg\", new_image)\n",
    "\n",
    "if __name__ == '__main__':\n",
    "\tmain()   "
   ]
  },
  {
   "cell_type": "markdown",
   "metadata": {},
   "source": [
    "## BICUBIC INTERPOLATION"
   ]
  },
  {
   "cell_type": "code",
   "execution_count": 5,
   "metadata": {},
   "outputs": [],
   "source": [
    "import cv2\n",
    "import numpy as np\n",
    "import math\n",
    "\n",
    "def bound(x, y, height, width):\n",
    "\tif x < 0:\n",
    "\t\tx = 0\n",
    "\tif y < 0:\n",
    "\t\ty = 0\n",
    "\tif x >= width:\n",
    "\t\tx = width - 1\n",
    "\tif y >= height:\n",
    "\t\ty = height - 1\n",
    "\treturn x, y\n",
    "\n",
    "def interpolate_bicubic(src1, new_height, new_width):\n",
    "    old_height, old_width, channels = src1.shape\n",
    "    \n",
    "    SHIFTAMT = 2\n",
    "    src = cv2.copyMakeBorder(src1,SHIFTAMT,SHIFTAMT,SHIFTAMT,SHIFTAMT,cv2.BORDER_CONSTANT)\n",
    "    \n",
    "    \n",
    "    h_ratio = old_height/new_height \n",
    "    w_ratio = old_width/new_width\n",
    "    \n",
    "    scaled = np.zeros((new_height,new_width,channels),src.dtype)\n",
    "        \n",
    "    for y_new in range(new_height):\n",
    "        for x_new in range(new_width):\n",
    "            x_old = x_new * w_ratio + SHIFTAMT\n",
    "            y_old = y_new * h_ratio + SHIFTAMT\n",
    "            \n",
    "            neigh1_x = math.floor(x_old)\n",
    "            neigh1_y = math.floor(y_old)\n",
    "            \n",
    "            delta_x = x_old - neigh1_x\n",
    "            delta_y = y_old - neigh1_y\n",
    "            \n",
    "            X = np.array([[delta_x**i for i in range(3,-1,-1)]]).T\n",
    "            Y = np.array([[delta_y**i for i in range(3,-1,-1)]])\n",
    "            \n",
    "            # relative coordinates's coefficient\n",
    "            B = np.array([\n",
    "                [-1, 1, -1, 1], \n",
    "                [0, 0, 0, 1],\n",
    "                [1, 1, 1, 1],\n",
    "                [8, 4, 2, 1]\n",
    "            ])\n",
    "            \n",
    "            B_inv = np.linalg.inv(B)\n",
    "                        \n",
    "            for c in range(channels):\n",
    "                F = np.array([\n",
    "                [src[neigh1_y-1,neigh1_x-1,c], src[neigh1_y-1,neigh1_x,c], src[neigh1_y-1,neigh1_x+1,c], src[neigh1_y-1,neigh1_x + 2,c]],\n",
    "                [src[neigh1_y,neigh1_x-1,c], src[neigh1_y,neigh1_x,c], src[neigh1_y,neigh1_x+1,c], src[neigh1_y,neigh1_x + 2,c]],\n",
    "                [src[neigh1_y+1,neigh1_x-1,c], src[neigh1_y+1,neigh1_x,c], src[neigh1_y+1,neigh1_x+1,c], src[neigh1_y+1,neigh1_x + 2,c]],\n",
    "                [src[neigh1_y+2,neigh1_x-1,c], src[neigh1_y+2,neigh1_x,c], src[neigh1_y+2,neigh1_x+1,c], src[neigh1_y+2,neigh1_x + 2,c]]                \n",
    "                ])\n",
    "                \n",
    "                coeff = np.dot(np.dot(B_inv,F),B_inv.T)\n",
    "#                 print(np.dot(np.dot(Y,coeff),X))\n",
    "                \n",
    "                scaled[y_new, x_new, c] = np.dot(np.dot(Y,coeff),X)\n",
    "                scaled[y_new, x_new, c] = round(scaled[y_new, x_new, c])\n",
    "            \n",
    "    return scaled\n",
    "\n",
    "def main():\n",
    "\timg_path = \"img/lion.jpg\"\n",
    "\timg = cv2.imread(img_path)\n",
    "\n",
    "\tnew_image = interpolate_bicubic(img,150,200)\n",
    "\n",
    "\tcv2.imwrite(\"output_bicubic.jpg\", new_image)\n",
    "\n",
    "if __name__ == '__main__':\n",
    "\tmain()   "
   ]
  },
  {
   "cell_type": "markdown",
   "metadata": {},
   "source": [
    "### COMPARISION"
   ]
  },
  {
   "cell_type": "code",
   "execution_count": 31,
   "metadata": {},
   "outputs": [
    {
     "data": {
      "text/plain": [
       "array([[-0.16666667,  0.5       , -0.5       ,  0.16666667],\n",
       "       [ 0.5       , -1.        ,  0.5       ,  0.        ],\n",
       "       [-0.33333333, -0.5       ,  1.        , -0.16666667],\n",
       "       [ 0.        ,  1.        ,  0.        ,  0.        ]])"
      ]
     },
     "execution_count": 31,
     "metadata": {},
     "output_type": "execute_result"
    }
   ],
   "source": [
    "np.linalg.inv(B_inv)"
   ]
  },
  {
   "cell_type": "code",
   "execution_count": 48,
   "metadata": {},
   "outputs": [
    {
     "data": {
      "text/plain": [
       "(1080, 1920, 3)"
      ]
     },
     "execution_count": 48,
     "metadata": {},
     "output_type": "execute_result"
    }
   ],
   "source": [
    "cv2.copyMakeBorder(img, 10, 10, 10, 10, cv2.BORDER_CONSTANT)"
   ]
  },
  {
   "cell_type": "code",
   "execution_count": 17,
   "metadata": {},
   "outputs": [],
   "source": []
  },
  {
   "cell_type": "code",
   "execution_count": 25,
   "metadata": {},
   "outputs": [],
   "source": [
    "a = np.array([[2]])"
   ]
  },
  {
   "cell_type": "code",
   "execution_count": 26,
   "metadata": {},
   "outputs": [
    {
     "data": {
      "text/plain": [
       "array([[2]])"
      ]
     },
     "execution_count": 26,
     "metadata": {},
     "output_type": "execute_result"
    }
   ],
   "source": [
    "a"
   ]
  },
  {
   "cell_type": "code",
   "execution_count": 27,
   "metadata": {},
   "outputs": [
    {
     "data": {
      "text/plain": [
       "2"
      ]
     },
     "execution_count": 27,
     "metadata": {},
     "output_type": "execute_result"
    }
   ],
   "source": [
    "int(a)"
   ]
  },
  {
   "cell_type": "code",
   "execution_count": null,
   "metadata": {},
   "outputs": [],
   "source": []
  }
 ],
 "metadata": {
  "kernelspec": {
   "display_name": "Python 3",
   "language": "python",
   "name": "python3"
  },
  "language_info": {
   "codemirror_mode": {
    "name": "ipython",
    "version": 3
   },
   "file_extension": ".py",
   "mimetype": "text/x-python",
   "name": "python",
   "nbconvert_exporter": "python",
   "pygments_lexer": "ipython3",
   "version": "3.7.1"
  }
 },
 "nbformat": 4,
 "nbformat_minor": 2
}
